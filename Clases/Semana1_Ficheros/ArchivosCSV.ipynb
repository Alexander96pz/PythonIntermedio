{
 "cells": [
  {
   "cell_type": "markdown",
   "metadata": {},
   "source": [
    "## Archivos CSV"
   ]
  },
  {
   "cell_type": "markdown",
   "metadata": {},
   "source": [
    "### Comma\n",
    "### Separated\n",
    "### Values"
   ]
  },
  {
   "cell_type": "markdown",
   "metadata": {},
   "source": [
    "Descargar los datos CSV desde https://goo.gl/3zaUlD \n",
    "Datos del mercado de valores de Google"
   ]
  },
  {
   "cell_type": "code",
   "execution_count": null,
   "metadata": {},
   "outputs": [],
   "source": [
    "path = \"./google_stock_data.csv\"\n",
    "file = open(path)\n",
    "\n",
    "#print(file.read())\n",
    "\n",
    "for line in file:\n",
    "    pass\n",
    "    #print(line)\n",
    "    \n"
   ]
  },
  {
   "cell_type": "code",
   "execution_count": 9,
   "metadata": {},
   "outputs": [
    {
     "name": "stdout",
     "output_type": "stream",
     "text": [
      "Date,Open,High,Low,Close,Volume,Adj Close\n",
      "\n",
      "8/19/2014,585.002622,587.342658,584.002627,586.862643,978600,586.862643\n",
      "\n"
     ]
    }
   ],
   "source": [
    "# la misma lectura empleando comprensión de listas\n",
    "path = \"./google_stock_data.csv\"\n",
    "lines = [line for line in open(path)]\n",
    "print(lines[0])\n",
    "\n",
    "print(lines[1])\n",
    "\n"
   ]
  },
  {
   "cell_type": "code",
   "execution_count": 10,
   "metadata": {},
   "outputs": [
    {
     "data": {
      "text/plain": [
       "'Date,Open,High,Low,Close,Volume,Adj Close'"
      ]
     },
     "execution_count": 10,
     "metadata": {},
     "output_type": "execute_result"
    }
   ],
   "source": [
    "lines[0].strip()"
   ]
  },
  {
   "cell_type": "code",
   "execution_count": 11,
   "metadata": {},
   "outputs": [
    {
     "data": {
      "text/plain": [
       "['Date', 'Open', 'High', 'Low', 'Close', 'Volume', 'Adj Close']"
      ]
     },
     "execution_count": 11,
     "metadata": {},
     "output_type": "execute_result"
    }
   ],
   "source": [
    "lines[0].strip().split(\",\")"
   ]
  },
  {
   "cell_type": "code",
   "execution_count": 18,
   "metadata": {},
   "outputs": [
    {
     "data": {
      "text/plain": [
       "['8/19/2014,585.002622,587.342658,584.002627,586.862643,978600,586.862643']"
      ]
     },
     "execution_count": 18,
     "metadata": {},
     "output_type": "execute_result"
    }
   ],
   "source": [
    "dataset = [line.strip().split() for line in open(path)]\n",
    "dataset[1]"
   ]
  },
  {
   "cell_type": "markdown",
   "metadata": {},
   "source": [
    "#### Segunda forma, con el modulo CSV "
   ]
  },
  {
   "cell_type": "code",
   "execution_count": 19,
   "metadata": {},
   "outputs": [
    {
     "name": "stdout",
     "output_type": "stream",
     "text": [
      "['Dialect', 'DictReader', 'DictWriter', 'Error', 'OrderedDict', 'QUOTE_ALL', 'QUOTE_MINIMAL', 'QUOTE_NONE', 'QUOTE_NONNUMERIC', 'Sniffer', 'StringIO', '_Dialect', '__all__', '__builtins__', '__cached__', '__doc__', '__file__', '__loader__', '__name__', '__package__', '__spec__', '__version__', 'excel', 'excel_tab', 'field_size_limit', 'get_dialect', 'list_dialects', 're', 'reader', 'register_dialect', 'unix_dialect', 'unregister_dialect', 'writer']\n"
     ]
    }
   ],
   "source": [
    "import csv\n",
    "\n",
    "print(dir(csv))"
   ]
  },
  {
   "cell_type": "code",
   "execution_count": 31,
   "metadata": {},
   "outputs": [
    {
     "name": "stdout",
     "output_type": "stream",
     "text": [
      "['Date', 'Open', 'High', 'Low', 'Close', 'Volume', 'Adj Close']\n",
      "['8/19/2014', '585.002622', '587.342658', '584.002627', '586.862643', '978600', '586.862643']\n"
     ]
    }
   ],
   "source": [
    "import csv\n",
    "\n",
    "path = \"./google_stock_data.csv\"\n",
    "file = open(path, newline='')\n",
    "reader = csv.reader(file)\n",
    "\n",
    "header = next(reader) \n",
    "data = [row for row in reader]\n",
    "data[-1][0:3]\n",
    "\n",
    "print(header)\n",
    "print(data[0])\n",
    "\n"
   ]
  },
  {
   "cell_type": "code",
   "execution_count": 35,
   "metadata": {},
   "outputs": [
    {
     "data": {
      "text/plain": [
       "[datetime.datetime(2004, 8, 19, 0, 0),\n",
       " 100.000168,\n",
       " 104.060182,\n",
       " 95.960165,\n",
       " 100.340176,\n",
       " 44871300,\n",
       " 50.119968]"
      ]
     },
     "execution_count": 35,
     "metadata": {},
     "output_type": "execute_result"
    }
   ],
   "source": [
    "import csv\n",
    "from datetime import datetime\n",
    "\n",
    "path = \"./google_stock_data.csv\"\n",
    "file = open(path, newline='')\n",
    "reader = csv.reader(file)\n",
    "\n",
    "header = next(reader) \n",
    "data = []\n",
    "\n",
    "for row in reader:\n",
    "    date = datetime.strptime(row[0], '%m/%d/%Y')\n",
    "    open_price = float(row[1])\n",
    "    high = float(row[2])\n",
    "    low = float(row[3])\n",
    "    close = float(row[4])\n",
    "    volume = int(row[5])\n",
    "    adj_close = float(row[6])\n",
    "    \n",
    "    data.append([date, open_price, high, low, close, volume, adj_close])\n",
    "    \n",
    "\n",
    "\n",
    "    \n"
   ]
  },
  {
   "cell_type": "code",
   "execution_count": 42,
   "metadata": {},
   "outputs": [],
   "source": [
    "# Calcular y almacenar devoluciones diaria de stock\n",
    "return_path = \"./google_returns.csv\"\n",
    "file = open(return_path, 'w')\n",
    "writer = csv.writer(file)\n",
    "\n",
    "writer.writerow(['Date', 'Return'])\n",
    "\n",
    "\n",
    "\n",
    "\n",
    "for i in range(len(data)-1):\n",
    "    todays_row = data[i]\n",
    "    todays_date = todays_row[0]\n",
    "    \n",
    "    # precio ajustado\n",
    "    today_price = todays_row[-1]\n",
    "    \n",
    "    yesterdays_row = data[i+1]\n",
    "    yesterdays_price = yesterdays_row[-1]\n",
    "    \n",
    "    dayly_return = (today_price - yesterdays_price) / yesterdays_price\n",
    "    formatted_date = todays_date.strftime('%m/%d/%Y')\n",
    "    writer.writerow([formatted_date, dayly_return])\n",
    "    \n",
    "file.close()"
   ]
  }
 ],
 "metadata": {
  "kernelspec": {
   "display_name": "Python 3",
   "language": "python",
   "name": "python3"
  },
  "language_info": {
   "codemirror_mode": {
    "name": "ipython",
    "version": 3
   },
   "file_extension": ".py",
   "mimetype": "text/x-python",
   "name": "python",
   "nbconvert_exporter": "python",
   "pygments_lexer": "ipython3",
   "version": "3.7.3"
  }
 },
 "nbformat": 4,
 "nbformat_minor": 2
}
