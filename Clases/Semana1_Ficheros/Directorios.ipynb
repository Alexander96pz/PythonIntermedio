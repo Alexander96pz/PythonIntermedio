{
 "cells": [
  {
   "cell_type": "markdown",
   "metadata": {},
   "source": [
    "## Directorios"
   ]
  },
  {
   "cell_type": "code",
   "execution_count": 8,
   "metadata": {},
   "outputs": [
    {
     "name": "stdout",
     "output_type": "stream",
     "text": [
      "folders\\data\n",
      "folders\\data\\subdirectory\n",
      "Directory exist: True\n",
      "Directory exist after creation: True\n"
     ]
    }
   ],
   "source": [
    "from pathlib import Path\n",
    "\n",
    "basedir = Path(\"folders/data\")\n",
    "print(basedir)\n",
    "\n",
    "subdir = basedir / \"subdirectory\"\n",
    "print(subdir)\n",
    "\n",
    "dir_exits = subdir.exists()\n",
    "print(\"Directory exist: {}\".format(dir_exits))\n",
    "\n",
    "subdir.mkdir(parents=True, exist_ok=True)\n",
    "print(\"Directory exist after creation: {}\".format(dir_exits))\n",
    "\n"
   ]
  },
  {
   "cell_type": "code",
   "execution_count": 12,
   "metadata": {},
   "outputs": [
    {
     "name": "stdout",
     "output_type": "stream",
     "text": [
      "Directory exist after delation: False\n"
     ]
    }
   ],
   "source": [
    "#subdir.rmdir()\n",
    "dir_exits = subdir.exists()\n",
    "print(\"Directory exist after delation: {}\".format(dir_exits))\n"
   ]
  },
  {
   "cell_type": "markdown",
   "metadata": {},
   "source": [
    "### Listar archivos"
   ]
  },
  {
   "cell_type": "code",
   "execution_count": 14,
   "metadata": {},
   "outputs": [
    {
     "name": "stdout",
     "output_type": "stream",
     "text": [
      "List files and directories\n",
      "[WindowsPath('.ipynb_checkpoints'), WindowsPath('arch.txt'), WindowsPath('datos'), WindowsPath('Directorios.ipynb'), WindowsPath('Ej1Ficheros.py'), WindowsPath('Ficheros.ipynb'), WindowsPath('folders'), WindowsPath('oceans.tx')]\n"
     ]
    }
   ],
   "source": [
    "arch_dir = Path('.')\n",
    "\n",
    "print(\"List files and directories\")\n",
    "flist = list(arch_dir.glob(\"*\"))\n",
    "print(flist)"
   ]
  },
  {
   "cell_type": "code",
   "execution_count": 17,
   "metadata": {},
   "outputs": [
    {
     "name": "stdout",
     "output_type": "stream",
     "text": [
      "Recursive file list\n",
      "[WindowsPath('Ej1Ficheros.py')]\n"
     ]
    }
   ],
   "source": [
    "print(\"Recursive file list\")\n",
    "flist = list(arch_dir.rglob(\"*.txt\"))\n",
    "print(flist)"
   ]
  },
  {
   "cell_type": "code",
   "execution_count": 19,
   "metadata": {},
   "outputs": [
    {
     "name": "stdout",
     "output_type": "stream",
     "text": [
      "False\n"
     ]
    }
   ],
   "source": [
    "print(arch_dir.is_file())"
   ]
  },
  {
   "cell_type": "code",
   "execution_count": 20,
   "metadata": {},
   "outputs": [
    {
     "name": "stdout",
     "output_type": "stream",
     "text": [
      "True\n"
     ]
    }
   ],
   "source": [
    "print(arch_dir.is_dir())"
   ]
  },
  {
   "cell_type": "code",
   "execution_count": 21,
   "metadata": {},
   "outputs": [
    {
     "name": "stdout",
     "output_type": "stream",
     "text": [
      "Ej1Ficheros.py\n"
     ]
    }
   ],
   "source": [
    "print(flist[0].name)"
   ]
  },
  {
   "cell_type": "code",
   "execution_count": 22,
   "metadata": {},
   "outputs": [
    {
     "name": "stdout",
     "output_type": "stream",
     "text": [
      ".py\n"
     ]
    }
   ],
   "source": [
    "print(flist[0].suffix)"
   ]
  },
  {
   "cell_type": "code",
   "execution_count": 23,
   "metadata": {},
   "outputs": [
    {
     "name": "stdout",
     "output_type": "stream",
     "text": [
      ".\n"
     ]
    }
   ],
   "source": [
    "print(flist[0].parent)"
   ]
  }
 ],
 "metadata": {
  "kernelspec": {
   "display_name": "Python 3",
   "language": "python",
   "name": "python3"
  },
  "language_info": {
   "codemirror_mode": {
    "name": "ipython",
    "version": 3
   },
   "file_extension": ".py",
   "mimetype": "text/x-python",
   "name": "python",
   "nbconvert_exporter": "python",
   "pygments_lexer": "ipython3",
   "version": "3.7.3"
  }
 },
 "nbformat": 4,
 "nbformat_minor": 2
}
