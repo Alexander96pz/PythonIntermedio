{
 "cells": [
  {
   "cell_type": "markdown",
   "metadata": {},
   "source": [
    "# Ficheros"
   ]
  },
  {
   "cell_type": "markdown",
   "metadata": {},
   "source": [
    "Leer archivos"
   ]
  },
  {
   "cell_type": "code",
   "execution_count": 12,
   "metadata": {},
   "outputs": [
    {
     "name": "stdout",
     "output_type": "stream",
     "text": [
      "Holaa!\n",
      "\n",
      "Este es el archivo\n"
     ]
    }
   ],
   "source": [
    "lectura = open(\"arch.txt\", \"r\")\n",
    "leer = lectura.readline()\n",
    "print(leer)\n",
    "leer2 = lectura.readline()\n",
    "print(leer2)\n"
   ]
  },
  {
   "cell_type": "markdown",
   "metadata": {},
   "source": [
    "Escribir archivos"
   ]
  },
  {
   "cell_type": "code",
   "execution_count": 16,
   "metadata": {},
   "outputs": [],
   "source": [
    "escritura = open(\"arch.txt\", \"w\")\n",
    "escritura.write(\"Esto se escribe en el archivo\\n\")\n",
    "escritura.write(\"Uno \\n Dos \\n Tres\")\n",
    "escritura.close()"
   ]
  },
  {
   "cell_type": "markdown",
   "metadata": {},
   "source": [
    "Ayuda"
   ]
  },
  {
   "cell_type": "code",
   "execution_count": 18,
   "metadata": {},
   "outputs": [],
   "source": [
    "#help(open)"
   ]
  },
  {
   "cell_type": "markdown",
   "metadata": {},
   "source": [
    "### Ejemplos adicionales"
   ]
  },
  {
   "cell_type": "code",
   "execution_count": 28,
   "metadata": {},
   "outputs": [],
   "source": [
    "#f = open(\"C:/datos/bio.txt\")\n",
    "f = open(\"./datos/bio.txt\")\n",
    "text = f.read()\n",
    "f.close()"
   ]
  },
  {
   "cell_type": "code",
   "execution_count": 30,
   "metadata": {},
   "outputs": [],
   "source": [
    "#print(text)"
   ]
  },
  {
   "cell_type": "code",
   "execution_count": 35,
   "metadata": {},
   "outputs": [
    {
     "name": "stdout",
     "output_type": "stream",
     "text": [
      "None\n"
     ]
    }
   ],
   "source": [
    "try:\n",
    "    with open(\"./datos/bio2.txt\") as fobj:\n",
    "        bio = fobj.read()\n",
    "except FileNotFoundError:\n",
    "    bio = None\n",
    "\n",
    "\n",
    "print(bio)\n"
   ]
  },
  {
   "cell_type": "markdown",
   "metadata": {},
   "source": [
    "Escribir archivos"
   ]
  },
  {
   "cell_type": "code",
   "execution_count": 42,
   "metadata": {},
   "outputs": [],
   "source": [
    "oceans = [\"Pacific2\", \"Atlantic\", \"Indian\", \"Southern\", \"Artic\"]\n",
    "\n",
    "with open(\"oceans.tx\", \"a\") as f:\n",
    "    for ocean in oceans:\n",
    "        f.write(ocean)\n",
    "        f.write('\\n')"
   ]
  },
  {
   "cell_type": "code",
   "execution_count": 48,
   "metadata": {},
   "outputs": [],
   "source": [
    "# segunda forma\n",
    "oceans = [\"Pacific\", \"Atlantic\", \"Indian\", \"Southern\", \"Artic\"]\n",
    "\n",
    "with open(\"oceans.tx\", \"w\") as f:\n",
    "    for ocean in oceans:\n",
    "        print(ocean, file=f)"
   ]
  },
  {
   "cell_type": "markdown",
   "metadata": {},
   "source": [
    "Agregar contenido"
   ]
  },
  {
   "cell_type": "code",
   "execution_count": 49,
   "metadata": {},
   "outputs": [],
   "source": [
    "with open(\"oceans.tx\", \"a\") as f:\n",
    "    print(23*'=', file=f)\n",
    "    print(\"These are the 5 oceans.\", file=f)"
   ]
  }
 ],
 "metadata": {
  "kernelspec": {
   "display_name": "Python 3",
   "language": "python",
   "name": "python3"
  },
  "language_info": {
   "codemirror_mode": {
    "name": "ipython",
    "version": 3
   },
   "file_extension": ".py",
   "mimetype": "text/x-python",
   "name": "python",
   "nbconvert_exporter": "python",
   "pygments_lexer": "ipython3",
   "version": "3.7.3"
  }
 },
 "nbformat": 4,
 "nbformat_minor": 2
}
