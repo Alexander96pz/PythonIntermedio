{
 "cells": [
  {
   "cell_type": "markdown",
   "metadata": {},
   "source": [
    "### JSON"
   ]
  },
  {
   "cell_type": "markdown",
   "metadata": {},
   "source": [
    "Lenguaje para intercambio de datos: XML, JSON"
   ]
  },
  {
   "cell_type": "code",
   "execution_count": null,
   "metadata": {},
   "outputs": [],
   "source": [
    "{\n",
    "    \"title\": \"Gattaca\",\n",
    "    \"release_year\": 1997,\n",
    "    \"is_awesome\": true,\n",
    "    \"won_oscar\": false,\n",
    "    \"actors\": [\"Ethan Hawke\", \"Uma Thurman\", \"Alan Arkin\", \"Loren Dean\"],\n",
    "    \"budget\": null,\n",
    "    \"credits\": {\n",
    "        \"director\": \"Andrew Niccol\",\n",
    "        \"writer\": \"Andrew Niccol\",\n",
    "        \"composer\": \"Michael Nyman\",\n",
    "        \"cinematographer\": \"Slawomir Idziak\"\n",
    "    }\n",
    "}\n",
    "\n"
   ]
  },
  {
   "cell_type": "code",
   "execution_count": 1,
   "metadata": {},
   "outputs": [
    {
     "data": {
      "text/plain": [
       "['JSONDecodeError',\n",
       " 'JSONDecoder',\n",
       " 'JSONEncoder',\n",
       " '__all__',\n",
       " '__author__',\n",
       " '__builtins__',\n",
       " '__cached__',\n",
       " '__doc__',\n",
       " '__file__',\n",
       " '__loader__',\n",
       " '__name__',\n",
       " '__package__',\n",
       " '__path__',\n",
       " '__spec__',\n",
       " '__version__',\n",
       " '_default_decoder',\n",
       " '_default_encoder',\n",
       " 'codecs',\n",
       " 'decoder',\n",
       " 'detect_encoding',\n",
       " 'dump',\n",
       " 'dumps',\n",
       " 'encoder',\n",
       " 'load',\n",
       " 'loads',\n",
       " 'scanner']"
      ]
     },
     "execution_count": 1,
     "metadata": {},
     "output_type": "execute_result"
    }
   ],
   "source": [
    "import json\n",
    "dir(json)"
   ]
  },
  {
   "cell_type": "markdown",
   "metadata": {},
   "source": [
    "Principales métodos\n",
    "\n",
    "- json.load(f): Carga datos JSON desde un archivo (o objeto similar a un archivo)\n",
    "- json.loads(s): Carga datos JSON desde un string\n",
    "- json.dump(j, f): Escribe un objeto JSON a un archivo (o objeto similar a un archivo)\n",
    "- json.dumps(j): Salida de un objeto JSON como string"
   ]
  },
  {
   "cell_type": "code",
   "execution_count": 3,
   "metadata": {},
   "outputs": [
    {
     "data": {
      "text/plain": [
       "{'actors': ['Ethan Hawke', 'Uma Thurman', 'Alan Arkin', 'Loren Dean'],\n",
       " 'budget': None,\n",
       " 'credits': {'cinematographer': 'Slawomir Idziak',\n",
       "  'composer': 'Michael Nyman',\n",
       "  'director': 'Andrew Niccol',\n",
       "  'writer': 'Andrew Niccol'},\n",
       " 'is_awesome': True,\n",
       " 'release_year': 1997,\n",
       " 'title': 'Gattaca',\n",
       " 'won_oscar': False}"
      ]
     },
     "execution_count": 3,
     "metadata": {},
     "output_type": "execute_result"
    }
   ],
   "source": [
    "json_file = open(\"movie.txt\", \"r\", encoding=\"utf-8\")\n",
    "movie = json.load(json_file)\n",
    "json_file.close()\n",
    "\n",
    "movie"
   ]
  },
  {
   "cell_type": "code",
   "execution_count": 4,
   "metadata": {},
   "outputs": [
    {
     "data": {
      "text/plain": [
       "dict"
      ]
     },
     "execution_count": 4,
     "metadata": {},
     "output_type": "execute_result"
    }
   ],
   "source": [
    "type(movie)"
   ]
  },
  {
   "cell_type": "code",
   "execution_count": 7,
   "metadata": {},
   "outputs": [
    {
     "data": {
      "text/plain": [
       "{'cinematographer': 'Slawomir Idziak',\n",
       " 'composer': 'Michael Nyman',\n",
       " 'director': 'Andrew Niccol',\n",
       " 'writer': 'Andrew Niccol'}"
      ]
     },
     "execution_count": 7,
     "metadata": {},
     "output_type": "execute_result"
    }
   ],
   "source": [
    "movie[\"credits\"]"
   ]
  },
  {
   "cell_type": "code",
   "execution_count": 8,
   "metadata": {},
   "outputs": [
    {
     "data": {
      "text/plain": [
       "{'actors': None,\n",
       " 'budget': 170000000,\n",
       " 'composer': 'Daft Punk',\n",
       " 'release_year': 2010,\n",
       " 'title': 'Tron: Legacy',\n",
       " 'won_oscar': False}"
      ]
     },
     "execution_count": 8,
     "metadata": {},
     "output_type": "execute_result"
    }
   ],
   "source": [
    "value = \"\"\"\n",
    "   {\"title\": \"Tron: Legacy\",\n",
    "   \"composer\": \"Daft Punk\",\n",
    "   \"release_year\": 2010,\n",
    "   \"budget\": 170000000,\n",
    "   \"actors\": null,\n",
    "   \"won_oscar\": false   \n",
    "   } \"\"\"\n",
    "\n",
    "tron = json.loads(value)\n",
    "tron"
   ]
  },
  {
   "cell_type": "code",
   "execution_count": 13,
   "metadata": {},
   "outputs": [
    {
     "name": "stdout",
     "output_type": "stream",
     "text": [
      "7116.48\n",
      "949.32635381\n"
     ]
    }
   ],
   "source": [
    "### Analizar JSON desde URL\n",
    "\n",
    "import json\n",
    "import urllib.request\n",
    "\n",
    "# descargar el objeto json sin formato\n",
    "url = \"https://api.gdax.com/products/BTC-EUR/ticker\"\n",
    "data = urllib.request.urlopen(url).read().decode()\n",
    "\n",
    "# analizar objeto json\n",
    "obj = json.loads(data)\n",
    "\n",
    "# presetanción de algunos atributos\n",
    "print(float(obj['price']) +1)\n",
    "print(float(obj['volume']))\n"
   ]
  },
  {
   "cell_type": "code",
   "execution_count": 14,
   "metadata": {},
   "outputs": [
    {
     "data": {
      "text/plain": [
       "'{\"title\": \"Gattaca\", \"release_year\": 1997, \"is_awesome\": true, \"won_oscar\": false, \"actors\": [\"Ethan Hawke\", \"Uma Thurman\", \"Alan Arkin\", \"Loren Dean\"], \"budget\": null, \"credits\": {\"director\": \"Andrew Niccol\", \"writer\": \"Andrew Niccol\", \"composer\": \"Michael Nyman\", \"cinematographer\": \"Slawomir Idziak\"}}'"
      ]
     },
     "execution_count": 14,
     "metadata": {},
     "output_type": "execute_result"
    }
   ],
   "source": [
    "json.dumps(movie)"
   ]
  },
  {
   "cell_type": "code",
   "execution_count": 15,
   "metadata": {},
   "outputs": [
    {
     "data": {
      "text/plain": [
       "'{\"title\": \"Gattaca\", \"release_year\": 1997, \"is_awesome\": true, \"won_oscar\": false, \"actors\": [\"Ethan Hawke\", \"Uma Thurman\", \"Alan Arkin\", \"Loren Dean\"], \"budget\": null, \"credits\": {\"director\": \"Andrew Niccol\", \"writer\": \"Andrew Niccol\", \"composer\": \"Michael Nyman\", \"cinematographer\": \"Slawomir Idziak\"}}'"
      ]
     },
     "execution_count": 15,
     "metadata": {},
     "output_type": "execute_result"
    }
   ],
   "source": [
    "json.dumps(movie, ensure_ascii=False)"
   ]
  },
  {
   "cell_type": "markdown",
   "metadata": {},
   "source": [
    "Json dump sample"
   ]
  },
  {
   "cell_type": "code",
   "execution_count": 18,
   "metadata": {},
   "outputs": [],
   "source": [
    "import json\n",
    "movie2 = {}\n",
    "movie2[\"title\"] = \"Minority Report\"\n",
    "movie2[\"director\"] = \"Steven Spielberg\"\n",
    "movie2[\"composer\"] = \"John Williams\"\n",
    "movie2[\"actors\"] = [\"Tom Cruise\", \"Colin Farrell\", \"Samanta Morton\", \"Max von Sydow\"]\n",
    "movie2[\"is_awesome\"] = True\n",
    "movie2[\"budget\"] = 102000000\n",
    "movie2[\"cinematographer\"] = \"Janusz Kami\\u0144ski\"\n",
    "\n",
    "file2 = open(\"movie2.txt\", \"w\", encoding=\"utf-8\")\n",
    "json.dump(movie2, file2, ensure_ascii=False) \n",
    "file2.close()         "
   ]
  }
 ],
 "metadata": {
  "kernelspec": {
   "display_name": "Python 3",
   "language": "python",
   "name": "python3"
  },
  "language_info": {
   "codemirror_mode": {
    "name": "ipython",
    "version": 3
   },
   "file_extension": ".py",
   "mimetype": "text/x-python",
   "name": "python",
   "nbconvert_exporter": "python",
   "pygments_lexer": "ipython3",
   "version": "3.7.3"
  }
 },
 "nbformat": 4,
 "nbformat_minor": 2
}
