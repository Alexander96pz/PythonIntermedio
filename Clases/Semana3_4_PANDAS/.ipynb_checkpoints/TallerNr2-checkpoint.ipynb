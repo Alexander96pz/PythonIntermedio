{
 "cells": [
  {
   "cell_type": "markdown",
   "metadata": {},
   "source": [
    "# Taller Nro. 2\n",
    "\n",
    "Nombres y Apellidos:\n",
    "\n",
    "Fecha: \n"
   ]
  },
  {
   "cell_type": "markdown",
   "metadata": {},
   "source": [
    "#### 1 Cree un DataFrame df a partir de los datos de este diccionario que tengan las etiquetas de índice.\n",
    "#### 2 Muestre un resumen de la información básica sobre este DataFrame y sus datos.\n",
    "#### 3 Devuelve las primeras 3 filas del DataFrame df.\n",
    "#### 4. Seleccione solo las columnas 'animal' y 'edad' del DataFrame df.\n",
    "#### 5. Seleccione los datos en las filas [3, 4, 8] y en las columnas ['animal', 'edad'].\n",
    "#### 6. Seleccione solo las filas donde el número de visitas es mayor que 3.\n",
    "#### 7. Seleccione las filas donde falta la edad, es decir, es NaN.\n",
    "#### 8. Seleccione las filas donde el animal es un gato y la edad es menor de 3 años.\n",
    "#### 9. Seleccione las filas donde la edad está entre 2 y 4 (inclusive).\n",
    "#### 10. Cambie la edad en la fila 'f' a 1.5.\n",
    "#### 11. Calcule la suma de todas las visitas (el número total de visitas).\n"
   ]
  },
  {
   "cell_type": "code",
   "execution_count": null,
   "metadata": {},
   "outputs": [],
   "source": [
    "data = {'animal': ['cat', 'cat', 'snake', 'dog', 'dog', 'cat', 'snake', 'cat', 'dog', 'dog'],\n",
    "        'edad': [2.5, 3, 0.5, np.nan, 5, 2, 4.5, np.nan, 7, 3],\n",
    "        'visitas': [1, 3, 2, 3, 2, 3, 1, 1, 2, 1],\n",
    "        'prioridad': ['yes', 'yes', 'no', 'yes', 'no', 'no', 'no', 'yes', 'no', 'no']}\n",
    "labels = ['a', 'b', 'c', 'd', 'e', 'f', 'g', 'h', 'i', 'j']"
   ]
  }
 ],
 "metadata": {
  "kernelspec": {
   "display_name": "Python 3",
   "language": "python",
   "name": "python3"
  },
  "language_info": {
   "codemirror_mode": {
    "name": "ipython",
    "version": 3
   },
   "file_extension": ".py",
   "mimetype": "text/x-python",
   "name": "python",
   "nbconvert_exporter": "python",
   "pygments_lexer": "ipython3",
   "version": "3.7.3"
  }
 },
 "nbformat": 4,
 "nbformat_minor": 2
}
