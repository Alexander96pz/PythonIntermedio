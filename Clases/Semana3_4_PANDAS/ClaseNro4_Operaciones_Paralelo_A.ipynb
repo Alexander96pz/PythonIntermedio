{
  "nbformat": 4,
  "nbformat_minor": 0,
  "metadata": {
    "kernelspec": {
      "display_name": "Python 3",
      "language": "python",
      "name": "python3"
    },
    "language_info": {
      "codemirror_mode": {
        "name": "ipython",
        "version": 3
      },
      "file_extension": ".py",
      "mimetype": "text/x-python",
      "name": "python",
      "nbconvert_exporter": "python",
      "pygments_lexer": "ipython3",
      "version": "3.7.6"
    },
    "colab": {
      "name": "ClaseNro4-Operaciones- Paralelo A.ipynb",
      "provenance": [],
      "collapsed_sections": [],
      "toc_visible": true
    }
  },
  "cells": [
    {
      "cell_type": "code",
      "metadata": {
        "id": "V2-3G8DVeYRV"
      },
      "source": [
        "import pandas as pd\n",
        "import numpy as np\n",
        "\n",
        "\n",
        "registers = pd.read_csv(\"frankfurt_weather.csv\", parse_dates=[\"time\"], index_col=\"time\", sep=\",\", na_values=\"\")\n",
        "registers"
      ],
      "execution_count": null,
      "outputs": []
    },
    {
      "cell_type": "markdown",
      "metadata": {
        "id": "SROp5U2UeYRa"
      },
      "source": [
        "### Operaciones"
      ]
    },
    {
      "cell_type": "markdown",
      "metadata": {
        "id": "zz-xSYTWeYRb"
      },
      "source": [
        "Además de sus muchas opciones de selección, la clase DataFrame proporciona muchas funciones para calcular medidas estadísticas, por ejemplo, el promedio de cada columna:"
      ]
    },
    {
      "cell_type": "code",
      "metadata": {
        "id": "OJLyhYvxeYRb"
      },
      "source": [
        "registers.mean()"
      ],
      "execution_count": null,
      "outputs": []
    },
    {
      "cell_type": "code",
      "metadata": {
        "id": "vYaGJHUn0lX8"
      },
      "source": [
        "registers.min()"
      ],
      "execution_count": null,
      "outputs": []
    },
    {
      "cell_type": "code",
      "metadata": {
        "id": "YgW7-UdP0p7W"
      },
      "source": [
        "registers.visibility.min()"
      ],
      "execution_count": null,
      "outputs": []
    },
    {
      "cell_type": "code",
      "metadata": {
        "id": "l4EE-29LeYRe"
      },
      "source": [
        "# Puede hacer lo mismo para columnas individuales ( Series):\n",
        "registers.visibility.mean()"
      ],
      "execution_count": null,
      "outputs": []
    },
    {
      "cell_type": "code",
      "metadata": {
        "id": "CjOTzfseeYRi"
      },
      "source": [
        "# Y, por supuesto, puede combinar todo lo anterior:\n",
        "registers[registers.visibility < 1000].wind_speed.median()"
      ],
      "execution_count": null,
      "outputs": []
    },
    {
      "cell_type": "markdown",
      "metadata": {
        "id": "GBZBbTgMeYRm"
      },
      "source": [
        "Si desea aplicar operaciones específicas a sus datos que no están cubiertas por las funciones estándar de pandas, puede hacerlo mediante el método `apply()`. Esto funciona para series individuales o a lo largo de un eje de un objeto DataFrame:"
      ]
    },
    {
      "cell_type": "code",
      "metadata": {
        "id": "_Hl5eA0l1eKU"
      },
      "source": [
        "print(registers.air_temperature)"
      ],
      "execution_count": null,
      "outputs": []
    },
    {
      "cell_type": "code",
      "metadata": {
        "id": "L2rseaEb1pmT"
      },
      "source": [
        "# Primero definimos la función\n",
        "def do_sth(x):\n",
        "    return (x + 5) ** 2"
      ],
      "execution_count": null,
      "outputs": []
    },
    {
      "cell_type": "code",
      "metadata": {
        "id": "Qq9ni_lfeYRn"
      },
      "source": [
        "# Luego lo aplicamos a la serie de temperatura.:\n",
        "registers.air_temperature.apply(do_sth)"
      ],
      "execution_count": null,
      "outputs": []
    },
    {
      "cell_type": "markdown",
      "metadata": {
        "id": "B3gO8wRReYRq"
      },
      "source": [
        "Pero, ¿qué pasa si queremos hacer una operación en varias columnas al mismo tiempo y guardar el resultado en una nueva columna?\n",
        "\n",
        "Digamos que queremos calcular la diferencia entre la temperatura del aire y los valores del punto de rocío y guardar los resultados en una nueva columna llamada “temp_dewpt_diff”."
      ]
    },
    {
      "cell_type": "code",
      "metadata": {
        "id": "W9wvuk1neYRr"
      },
      "source": [
        "registers[\"temp_dewpt_diff\"] = registers.air_temperature - registers.dewpoint\n",
        "registers.head()"
      ],
      "execution_count": null,
      "outputs": []
    },
    {
      "cell_type": "markdown",
      "metadata": {
        "id": "4fpnk2b9eYRw"
      },
      "source": [
        "### Tratamiento de valores faltantes"
      ]
    },
    {
      "cell_type": "markdown",
      "metadata": {
        "id": "eT3kgLtveYRx"
      },
      "source": [
        "Todos los métodos que se muestran arriba excluyen los valores perdidos en sus cálculos de forma predeterminada. Si no desea excluir los NaN, puede hacerlo con las palabras clave skipnao dropna(en la mayoría de los métodos)."
      ]
    },
    {
      "cell_type": "code",
      "metadata": {
        "id": "_DudJHZWeYRx"
      },
      "source": [
        "import numpy as np\n",
        "df = pd.DataFrame(np.random.randn(5, 3), index=['a', 'c', 'e', 'f', 'h'],columns=['one', 'two', 'three'])\n",
        "df"
      ],
      "execution_count": null,
      "outputs": []
    },
    {
      "cell_type": "code",
      "metadata": {
        "id": "yh06vjqT2jPP"
      },
      "source": [
        "df['four'] = 'bar'\n",
        "df"
      ],
      "execution_count": null,
      "outputs": []
    },
    {
      "cell_type": "code",
      "metadata": {
        "id": "0oeTU7Ny2w2V"
      },
      "source": [
        "df['five'] = df['one'] > 0\n",
        "df"
      ],
      "execution_count": null,
      "outputs": []
    },
    {
      "cell_type": "code",
      "metadata": {
        "id": "9ODKXq4FeYR2"
      },
      "source": [
        "df2 = df.reindex(['a', 'b', 'c', 'd', 'e', 'f', 'g', 'h'])\n",
        "df2"
      ],
      "execution_count": null,
      "outputs": []
    },
    {
      "cell_type": "markdown",
      "metadata": {
        "id": "HaE7-6E0eYR4"
      },
      "source": [
        "Para facilitar la detección de valores perdidos (y en diferentes tipos de matriz), pandas proporciona las funciones isna()y notna(), que también son métodos en objetos Series y DataFrame:"
      ]
    },
    {
      "cell_type": "code",
      "metadata": {
        "id": "6Ml1IV5seYR5"
      },
      "source": [
        "df2['one']"
      ],
      "execution_count": null,
      "outputs": []
    },
    {
      "cell_type": "code",
      "metadata": {
        "id": "hsjm_t5OeYR8"
      },
      "source": [
        "pd.isna(df2['one'])"
      ],
      "execution_count": null,
      "outputs": []
    },
    {
      "cell_type": "code",
      "metadata": {
        "id": "Y7W81mtpeYR_"
      },
      "source": [
        "df2['four'].notna()"
      ],
      "execution_count": null,
      "outputs": []
    },
    {
      "cell_type": "code",
      "metadata": {
        "id": "seF0bb5TeYSB"
      },
      "source": [
        "df2.isna()"
      ],
      "execution_count": null,
      "outputs": []
    },
    {
      "cell_type": "markdown",
      "metadata": {
        "id": "yhLlVb3HeYSF"
      },
      "source": [
        "#### Llenando los valores faltantes: fillna\n",
        "fillna() puede \"completar\" valores NA con datos que no son NA de un par de formas, que ilustramos:\n",
        "\n",
        "Reemplazar NA con un valor escalar"
      ]
    },
    {
      "cell_type": "code",
      "metadata": {
        "id": "q4vbEiIUeYSG"
      },
      "source": [
        "df2"
      ],
      "execution_count": null,
      "outputs": []
    },
    {
      "cell_type": "code",
      "metadata": {
        "id": "HgguFOzTeYSK"
      },
      "source": [
        "df2.fillna(0)"
      ],
      "execution_count": null,
      "outputs": []
    },
    {
      "cell_type": "code",
      "metadata": {
        "id": "EnOCQcGkeYSN"
      },
      "source": [
        "df2['one'].fillna('missing')"
      ],
      "execution_count": null,
      "outputs": []
    },
    {
      "cell_type": "code",
      "metadata": {
        "id": "c21m3tHueYSQ"
      },
      "source": [
        "df = pd.DataFrame({'A':[1,2,np.nan],\n",
        "                  'B':[5,np.nan,np.nan],\n",
        "                  'C':[1,2,3]})\n",
        "df"
      ],
      "execution_count": null,
      "outputs": []
    },
    {
      "cell_type": "markdown",
      "metadata": {
        "id": "HePQrijcrH7v"
      },
      "source": [
        "<img src=\"https://www.w3resource.com/w3r_images/pandas-dataframe-dropna-1.png\" width=\"400\">"
      ]
    },
    {
      "cell_type": "code",
      "metadata": {
        "id": "4-4Ro6dKeYST"
      },
      "source": [
        "df.dropna()"
      ],
      "execution_count": null,
      "outputs": []
    },
    {
      "cell_type": "markdown",
      "metadata": {
        "id": "cVzqAQqArcm7"
      },
      "source": [
        "<img src=\"https://www.w3resource.com/w3r_images/pandas-dataframe-dropna-2.png\" width=\"400\">"
      ]
    },
    {
      "cell_type": "code",
      "metadata": {
        "id": "34U89W6seYSX"
      },
      "source": [
        "df.dropna(axis=1)"
      ],
      "execution_count": null,
      "outputs": []
    },
    {
      "cell_type": "markdown",
      "metadata": {
        "id": "cFox7zonqU-S"
      },
      "source": [
        "\n",
        "<img src=\"https://www.w3resource.com/w3r_images/pandas-dataframe-dropna-4.png\" width=\"400\">"
      ]
    },
    {
      "cell_type": "code",
      "metadata": {
        "id": "ZIuanql7eYSb"
      },
      "source": [
        "# Mantenga solo las filas con al menos 2 valores que no sean NA:\n",
        "df.dropna(thresh=2)"
      ],
      "execution_count": null,
      "outputs": []
    },
    {
      "cell_type": "code",
      "metadata": {
        "id": "H81arj5UeYSe"
      },
      "source": [
        "df.fillna(value='FILL VALUE')"
      ],
      "execution_count": null,
      "outputs": []
    },
    {
      "cell_type": "code",
      "metadata": {
        "id": "541GLslVeYSg"
      },
      "source": [
        "df['A'].fillna(value=df['A'].mean())"
      ],
      "execution_count": null,
      "outputs": []
    },
    {
      "cell_type": "markdown",
      "metadata": {
        "id": "Va9lrhOPeYSj"
      },
      "source": [
        "### Remuestreo"
      ]
    },
    {
      "cell_type": "markdown",
      "metadata": {
        "id": "EcCkYMbkeYSj"
      },
      "source": [
        "El método resample() proporciona otra funcionalidad que a menudo se necesita cuando se trabaja con datos de series de tiempo . Puede usarlo para volver a muestrear sus datos a diferentes resoluciones temporales.\n",
        "\n",
        "La función resample() devuelve un objeto Resampler que a su vez proporciona muchas funciones para el método de remuestreo específico.\n",
        "\n",
        "Por ejemplo, podemos promediar los datos del aeropuerto de Frankfurt en un intervalo de 3 horas:"
      ]
    },
    {
      "cell_type": "code",
      "metadata": {
        "id": "XTn5xvvF5IlJ"
      },
      "source": [
        "registers.head(10)"
      ],
      "execution_count": null,
      "outputs": []
    },
    {
      "cell_type": "code",
      "metadata": {
        "id": "9UWrY766eYSk"
      },
      "source": [
        "registers.resample(\"3H\").mean()"
      ],
      "execution_count": null,
      "outputs": []
    },
    {
      "cell_type": "markdown",
      "metadata": {
        "id": "TIZcY4-QeYSp"
      },
      "source": [
        "Pero no nos limitamos a calcular la media de estos intervalos. También podemos calcular la suma o cualquier otra función que nos guste:"
      ]
    },
    {
      "cell_type": "code",
      "metadata": {
        "id": "iktT-JuKeYSq"
      },
      "source": [
        "registers.resample(\"3H\").sum().head(8)"
      ],
      "execution_count": null,
      "outputs": []
    },
    {
      "cell_type": "markdown",
      "metadata": {
        "id": "rbIn-C4VeYSv"
      },
      "source": [
        ".sum()y .mean() son convenientes para calcular la misma estadística para todas las columnas del marco de datos. Digamos que queremos calcular la media de la temperatura pero el máximo de la altura de las nubes. En lugar de seleccionar cada columna en una nueva variable y aplicar la función correspondiente a cada una, podemos usar el método .agg() del marco de datos."
      ]
    },
    {
      "cell_type": "code",
      "metadata": {
        "id": "KFN8zTgXeYSv"
      },
      "source": [
        "registers.loc[:, [\"air_temperature\", \"cloud_height\"]].resample(\"3H\").agg({\"air_temperature\": \"mean\", \"cloud_height\": \"max\"}).head()"
      ],
      "execution_count": null,
      "outputs": []
    },
    {
      "cell_type": "markdown",
      "metadata": {
        "id": "MCld4eayeYSy"
      },
      "source": [
        "- Para calcular más de una estadística para todas las columnas, simplemente proporcione .agg() una lista de las estadísticas para calcular.\n",
        "- esto también se puede hacer con el método de diccionario para calcular múltiples estadísticas para diferentes columnas\n",
        "```p.ej: .agg({\"air_temperature\": [\"mean\", \"min\", \"max\"], \"cloud_height\": [\"min\", \"max\"]}```"
      ]
    },
    {
      "cell_type": "code",
      "metadata": {
        "id": "hHFG3wMBeYSz"
      },
      "source": [
        "registers.loc[:, [\"air_temperature\", \"cloud_height\"]].resample(\"3H\").agg({\"air_temperature\": [\"mean\", \"min\", 'std'], \"cloud_height\": [\"max\", 'min', 'sum']}).head()"
      ],
      "execution_count": null,
      "outputs": []
    },
    {
      "cell_type": "code",
      "metadata": {
        "id": "IJvvT4eD7kHd"
      },
      "source": [
        "# remuestrear cada 24 horas, buscar 2 formas de solucionar el problema"
      ],
      "execution_count": null,
      "outputs": []
    },
    {
      "cell_type": "markdown",
      "metadata": {
        "id": "-JInMOFpeYS2"
      },
      "source": [
        "También podemos volver a muestrear a una resolución temporal más alta que el conjunto de datos original y proporcionar una técnica de interpolación para los pasos de tiempo entre puntos de medición conocidos:"
      ]
    },
    {
      "cell_type": "code",
      "metadata": {
        "id": "Zqe5oRgeeYS3"
      },
      "source": [
        "registers.resample(\"10Min\").interpolate(\"linear\")"
      ],
      "execution_count": null,
      "outputs": []
    },
    {
      "cell_type": "markdown",
      "metadata": {
        "id": "YiaeXIi2eYS6"
      },
      "source": [
        "### Escribir resultados"
      ]
    },
    {
      "cell_type": "markdown",
      "metadata": {
        "id": "5eF9FcnDeYS6"
      },
      "source": [
        "Si desea guardar sus datos, puede usar uno de los muchos escritores de pandas. Aquí (https://pandas.pydata.org/pandas-docs/stable/user_guide/io.html) se proporciona una lista completa de escritores disponibles."
      ]
    },
    {
      "cell_type": "code",
      "metadata": {
        "id": "Zm4ejS7yeYS7"
      },
      "source": [
        "from pathlib import Path\n",
        "\n",
        "x = registers[(registers.visibility < 1000) & (registers.air_temperature < 5)]\n",
        "\n",
        "\n",
        "outdir = Path(\"out\")\n",
        "if not outdir.exists():\n",
        "    outdir.mkdir(parents = True, exist_ok = True)\n",
        "    \n",
        "x.to_csv(\"./out/output.csv\")"
      ],
      "execution_count": null,
      "outputs": []
    },
    {
      "cell_type": "markdown",
      "metadata": {
        "id": "Z8_yNB7seYS9"
      },
      "source": [
        "## Problemas\n",
        "\n",
        "1. Vuelva a muestrear la tabla a intervalos de 1 hora (promedios)\n",
        "2. Seleccione todas las filas de la tabla remuestreada donde la altura de la nube fue inferior a 1000 my la presión del aire fue superior a 1000 hPa.\n",
        "3. Escribe el resultado en el archivo \"mi_data.html\""
      ]
    },
    {
      "cell_type": "code",
      "metadata": {
        "id": "PQ6Uq8lrDVw2"
      },
      "source": [
        "# ítem 1\n"
      ],
      "execution_count": null,
      "outputs": []
    },
    {
      "cell_type": "code",
      "metadata": {
        "id": "cO_yuZsU0ZCV"
      },
      "source": [
        "# ítem 2"
      ],
      "execution_count": null,
      "outputs": []
    },
    {
      "cell_type": "code",
      "metadata": {
        "id": "c1xpJ7UU0Ysm"
      },
      "source": [
        "# ítem 3"
      ],
      "execution_count": null,
      "outputs": []
    }
  ]
}