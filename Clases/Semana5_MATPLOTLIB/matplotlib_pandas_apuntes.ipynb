{
 "cells": [
  {
   "cell_type": "markdown",
   "metadata": {},
   "source": [
    "<img src=\"img/logo2.webp\">"
   ]
  },
  {
   "cell_type": "markdown",
   "metadata": {},
   "source": [
    "Es una biblioteca de trazado muy poderosa. Veamos primero cómo se estructura una gráfica en general y el vocabulario asociado con sus elementos. \n",
    "\n",
    "Más detalles sobre los conceptos básicos de matplotlib los encuentra en la [guía de uso](https://matplotlib.org/tutorials/introductory/usage.html#sphx-glr-tutorials-introductory-usage-py)\n",
    "\n",
    "Los [tutoriales](https://matplotlib.org/tutorials/index.html) y [ejemplos](https://matplotlib.org/gallery/index.html) páginas son también vale la pena mirar."
   ]
  },
  {
   "cell_type": "markdown",
   "metadata": {},
   "source": [
    "<img src=\"img/matplotlib_structure.png\">\n",
    "<img src=\"img/anatomy.png\">\n"
   ]
  },
  {
   "cell_type": "markdown",
   "metadata": {},
   "source": [
    "## Lineas"
   ]
  },
  {
   "cell_type": "markdown",
   "metadata": {},
   "source": [
    "Comencemos con un ejemplo simple. Queremos echar un vistazo a las series de tiempo de los datos de temperatura en un diagrama lineal simple:"
   ]
  },
  {
   "cell_type": "code",
   "execution_count": null,
   "metadata": {},
   "outputs": [],
   "source": [
    "import pandas as pd\n",
    "import matplotlib.pyplot as plt\n",
    "\n",
    "# Lectura de datos\n",
    "data = pd.read_csv('frankfurt_weather.csv', parse_dates=['time'], index_col='time', sep=',', na_values='')\n",
    "\n",
    "\n",
    "\n"
   ]
  },
  {
   "cell_type": "code",
   "execution_count": null,
   "metadata": {},
   "outputs": [],
   "source": [
    "data.head()"
   ]
  },
  {
   "cell_type": "code",
   "execution_count": null,
   "metadata": {},
   "outputs": [],
   "source": []
  },
  {
   "cell_type": "markdown",
   "metadata": {},
   "source": [
    "Esto nos da un pequeño gráfico lineal agradable con la serie temporal de temperatura representada como una línea azul. Sin embargo, la trama es un poco pequeña, los ejes no están etiquetados y no hay leyenda. Vamos a arreglar eso ..."
   ]
  },
  {
   "cell_type": "code",
   "execution_count": null,
   "metadata": {},
   "outputs": [],
   "source": [
    "plt.rcParams['font.size'] = 18\n",
    "plt.figure(figsize=(20,5))\n",
    "plt.plot(data.air_temperature, label='Temperatura de aire en Frankfurt Int. Airport en 2015')\n",
    "plt.xlim(('2015-01-01', '2015-12-31'))\n",
    "\n",
    "# Cada 15 de cada mes se reemplaza con los meses del año\n",
    "plt.xticks([\"2015-{:02d}-15\".format(x) for x in range(1,13,1)], [\"En\", \"Feb\", \"Mar\", \"Abr\", \"May\", \"Jun\", \"Jul\", \"Ags\", \"Sep\", \"Oct\", \"Nov\", \"Dic\"])\n",
    "plt.legend()\n",
    "plt.ylabel(\"Temperatura (°C)\")\n",
    "plt.show()"
   ]
  },
  {
   "cell_type": "markdown",
   "metadata": {},
   "source": [
    "Esto se ve mejor. Podemos ver que no tenemos que preocuparnos por los detalles de axes y axis del gráfico, ya que pyplot se encarga de ello. Cada vez que hacemos una función pyplot, solo reutiliza axes en la primera llamada de plot.\n",
    "\n",
    "Sin embargo, digamos que no estamos interesados en las fluctuaciones diarias de temperatura.\n",
    "\n",
    "Además, aunque construir manualmente las etiquetas xticks funciona bien, es un poco molesto. Especialmente porque el índice del dataframe de datos (que se usa para el eje x) ya contiene toda la información que necesitamos y solo el formato es incorrecto. Afortunadamente, matplotlib tiene algunas funciones de conveniencia disponibles en su submódulo de fecha que podemos usar si cambiamos al enfoque de \"ejes manuales\".\n",
    "\n",
    "Así que volvamos a muestrear los datos a los medios diarios, formatee las fechas y vuelva a trazarlos"
   ]
  },
  {
   "cell_type": "code",
   "execution_count": null,
   "metadata": {},
   "outputs": [],
   "source": [
    "\n",
    "import matplotlib.dates as mdates # necesitamos esto para formatear la fecha correctamente\n",
    "\n",
    "temp_resampled = data.air_temperature.resample('1d').mean()\n",
    "\n",
    "# Asignamos la figura a una variable para poder manipularla posteriormente\n",
    "fig = plt.figure(figsize=(20,5))\n",
    "\n",
    "# Agregar nuevos ejes al dataframe manualmente.\n",
    "# El argumento de la función add_subplot se usa para posicionar el diagrama\n",
    "# Los primeros dos números son el número de filas / columnas en la figura\n",
    "# El tercer número es la posición de la trama para crear\n",
    "ax = fig.add_subplot(111)\n",
    "\n",
    "# Graficar los datos\n",
    "ax.plot(temp_resampled,label=\"Temperatura de aire en Aeropuerto Frankfurt Int., 2015\")\n",
    "\n",
    "# Trazar la leyenda\n",
    "ax.legend ()\n",
    "\n",
    "# Establecer la etiqueta del eje Y\n",
    "ax.set_ylabel (\"Temperatura (° C)\")\n",
    "\n",
    "# Establecer los límites (rango) del eje X\n",
    "ax.set_xlim ((\"2015-01-01\", \"2015-12-31\"))\n",
    "\n",
    "# en lugar de crear las etiquetas de mes manualmente (como lo hicimos antes) usamos los localizadores y formateadores de fechas incorporados de matplotlib\n",
    "# configure el localizador para encontrar el día 15 de cada mes (aunque no todos los meses tienen la misma duración, esto es lo suficientemente cercano)\n",
    "days = mdates.DayLocator(bymonthday = 15)\n",
    "# establece el formato de fecha en el nombre abreviado del mes\n",
    "# Ref: https://matplotlib.org/3.1.0/api/dates_api.html\n",
    "monthFmt = mdates.DateFormatter(\"%b\")\n",
    "\n",
    "# aplicar localizador y formateador \n",
    "ax.xaxis.set_major_locator(days)\n",
    "ax.xaxis.set_major_formatter(monthFmt)\n"
   ]
  },
  {
   "cell_type": "markdown",
   "metadata": {},
   "source": [
    "También puede poner varias líneas en un `plot`:"
   ]
  },
  {
   "cell_type": "code",
   "execution_count": null,
   "metadata": {},
   "outputs": [],
   "source": [
    "data_resampled = data.loc[:, [\"air_temperature\", \"dewpoint\"]].resample(\"1d\").mean()\n",
    "\n",
    "fig = plt.figure(figsize=(20,5))\n",
    "\n",
    "ax = fig.add_subplot(111)\n",
    "\n",
    "ax.plot(data_resampled.loc[:, \"air_temperature\"],label=\"Air temperature\")\n",
    "\n",
    "\n",
    "ax.plot(data_resampled.loc[:, \"dewpoint\"],label=\"Dewpoint\")\n",
    "\n",
    "ax.legend()\n",
    "ax.set_ylabel(\"Temperature (°C)\")\n",
    "ax.set_xlim((\"2015-01-01\",\"2015-12-31\"))\n",
    "\n",
    "ax.xaxis.set_major_locator(days)\n",
    "ax.xaxis.set_major_formatter(monthFmt)\n",
    "\n",
    "plt.show()"
   ]
  },
  {
   "cell_type": "markdown",
   "metadata": {},
   "source": [
    "Y si no nos gustan los colores o los tipos de línea, podemos elegir diferentes proporcionando los argumentos `c` y `linestyle` a la función de trazado (`plot`):"
   ]
  },
  {
   "cell_type": "code",
   "execution_count": null,
   "metadata": {},
   "outputs": [],
   "source": [
    "fig = plt.figure(figsize=(20,5))\n",
    "plt.rcParams[\"font.size\"] = 18\n",
    "\n",
    "ax = fig.add_subplot(111)\n",
    "\n",
    "# Ref. https://matplotlib.org/2.1.1/api/_as_gen/matplotlib.pyplot.plot.html\n",
    "ax.plot(data_resampled.loc[:, \"air_temperature\"], label=\"Air temperature\", c=\"k\", linestyle=\"-.\")\n",
    "ax.plot(data_resampled.loc[:, \"dewpoint\"], label=\"Dewpoint\", c=\"r\", linestyle=\":\")\n",
    "\n",
    "ax.legend()\n",
    "ax.set_ylabel(\"Temperature (°C)\")\n",
    "ax.set_xlim((\"2015-01-01\",\"2015-12-31\"))\n",
    "\n",
    "ax.xaxis.set_major_locator(days)\n",
    "ax.xaxis.set_major_formatter(monthFmt)\n",
    "\n",
    "plt.show()"
   ]
  },
  {
   "cell_type": "code",
   "execution_count": null,
   "metadata": {},
   "outputs": [],
   "source": []
  },
  {
   "cell_type": "markdown",
   "metadata": {},
   "source": [
    "¿Qué sucede si queremos trazar 2 variables en el mismo diagrama que tienen unidades diferentes, por ejemplo, valores de temperatura y presión de aire?\n",
    "\n",
    "Para esto, podemos usar la función twinx(). Crea una segunda subtrama que comparte el eje Y con la primera subtrama:"
   ]
  },
  {
   "cell_type": "code",
   "execution_count": null,
   "metadata": {},
   "outputs": [],
   "source": [
    "data_resampled = data.loc[:, [\"air_temperature\", \"air_pressure\"]].resample(\"1d\").mean()\n",
    "\n",
    "fig = plt.figure(figsize=(20,5))\n",
    "\n",
    "ax2 = fig.add_subplot(111)\n",
    "ax1 = ax2.twinx()\n",
    "\n",
    "ax1.plot(data_resampled.loc[:, \"air_temperature\"], c=\"r\", label=\"Temperature\")\n",
    "ax2.plot(data_resampled.loc[:, \"air_pressure\"], c=\"b\", label=\"Air pressure\")\n",
    "\n",
    "ax1.set_ylabel(\"Temperature (°C)\")\n",
    "ax2.set_ylabel(\"Air pressure (m)\")\n",
    "\n",
    "ax1.legend()\n",
    "ax2.legend()\n",
    "\n",
    "ax1.set_xlim((\"2015-01-01\",\"2015-12-31\"))\n",
    "\n",
    "ax1.xaxis.set_major_locator(days)\n",
    "ax1.xaxis.set_major_formatter(monthFmt)\n",
    "plt.show()"
   ]
  },
  {
   "cell_type": "markdown",
   "metadata": {},
   "source": [
    "Normalmente, los subplots se usan, sin embargo, para trazar varias figuras una al lado de la otra. Por ejemplo, podemos crear 2 subplots \"ax1\" y \"ax2\", que representan la temperatura y la velocidad del viento una al lado de la otra:"
   ]
  },
  {
   "cell_type": "code",
   "execution_count": null,
   "metadata": {},
   "outputs": [],
   "source": [
    "data_resampled = data.loc[:, [\"air_temperature\", \"wind_speed\"]].resample(\"1d\").mean()\n",
    "\n",
    "fig = plt.figure(figsize=(20,5))\n",
    "plt.rcParams[\"font.size\"] = 18\n",
    "\n",
    "ax1 = fig.add_subplot(2,1,1) # add a subplot at index 1 into a plot that has 1 row and 2 columns\n",
    "ax2 = fig.add_subplot(2,2,3) # add a subplot at index 2 into a plot that has 1 row and 2 columns\n",
    "\n",
    "ax1.plot(data_resampled.loc[:, \"air_temperature\"], c=\"r\", label=\"Temperature\")\n",
    "ax2.plot(data_resampled.loc[:, \"wind_speed\"], c=\"b\", label=\"Wind speed\")\n",
    "\n",
    "ax1.legend()\n",
    "ax2.legend()\n",
    "\n",
    "ax1.set_xlim((\"2015-01-01\",\"2015-12-31\"))\n",
    "ax2.set_xlim((\"2015-01-01\",\"2015-12-31\"))\n",
    "\n",
    "ax1.xaxis.set_major_locator(days)\n",
    "ax1.xaxis.set_major_formatter(monthFmt)\n",
    "\n",
    "ax2.xaxis.set_major_locator(days)\n",
    "ax2.xaxis.set_major_formatter(monthFmt)\n",
    "\n",
    "plt.show()"
   ]
  },
  {
   "cell_type": "markdown",
   "metadata": {},
   "source": [
    "Si desea guardar su figura, simplemente puede llamar a la función savefig() en lugar de show():"
   ]
  },
  {
   "cell_type": "code",
   "execution_count": null,
   "metadata": {},
   "outputs": [],
   "source": [
    "fig = plt.figure(figsize=(20,5))\n",
    "\n",
    "plt.plot(data.air_temperature.resample(\"1d\").mean(), c=\"r\", label=\"Temperature\")\n",
    "\n",
    "plt.savefig(\"beispiel_output.png\")"
   ]
  },
  {
   "cell_type": "markdown",
   "metadata": {},
   "source": [
    "### Histogramas"
   ]
  },
  {
   "cell_type": "markdown",
   "metadata": {},
   "source": [
    "Para obtener una visión general de la distribución de los valores de temperatura, también podemos trazar un histograma de los datos:"
   ]
  },
  {
   "cell_type": "code",
   "execution_count": null,
   "metadata": {},
   "outputs": [],
   "source": [
    "plt.hist(data.air_temperature.dropna())\n",
    "plt.show()"
   ]
  },
  {
   "cell_type": "code",
   "execution_count": null,
   "metadata": {},
   "outputs": [],
   "source": []
  },
  {
   "cell_type": "markdown",
   "metadata": {},
   "source": [
    "Una vez más, esta trama es agradable y simple, pero podemos hacerlo mejor ..."
   ]
  },
  {
   "cell_type": "code",
   "execution_count": null,
   "metadata": {},
   "outputs": [],
   "source": [
    "temperatur = data.air_temperature.dropna()\n",
    "temperatur.unique()"
   ]
  },
  {
   "cell_type": "code",
   "execution_count": null,
   "metadata": {},
   "outputs": [],
   "source": [
    "temperatur = data.air_temperature.dropna()\n",
    "\n",
    "plt.figure(figsize=(20,7))\n",
    "\n",
    "plt.hist(temperatur,bins=sorted(temperatur.unique()-0.5), color=\"#1aa8a8\")\n",
    "plt.xlabel(\"Temperature (°C)\")\n",
    "plt.ylabel(\"Count\")\n",
    "plt.show()"
   ]
  },
  {
   "cell_type": "markdown",
   "metadata": {},
   "source": [
    "También podemos trazar varios histogramas dentro de un gráfico, por ejemplo, los valores de temperatura separados en enero y agosto:"
   ]
  },
  {
   "cell_type": "code",
   "execution_count": null,
   "metadata": {},
   "outputs": [],
   "source": [
    "temperatur_jan = data.air_temperature[\"2015-01\"].dropna()\n",
    "temperatur_aug = data.air_temperature[\"2015-08\"].dropna()\n",
    "\n",
    "plt.figure(figsize=(20,7))\n",
    "\n",
    "# bins, ancho del contenedor\n",
    "# Ref: https://stackoverflow.com/questions/33458566/how-to-choose-bins-in-matplotlib-histogram/33459231\n",
    "plt.hist(temperatur_jan,bins=sorted(data.air_temperature.dropna().unique()-0.5), color=\"#00b1ff\", alpha=0.5, label=\"January\")\n",
    "plt.hist(temperatur_aug,bins=sorted(data.air_temperature.dropna().unique()-0.5), color=\"#ff0000\", alpha=0.5, label=\"August\")\n",
    "plt.xlabel(\"Temperature (°C)\")\n",
    "plt.ylabel(\"Count\")\n",
    "plt.legend()\n",
    "plt.show()"
   ]
  },
  {
   "cell_type": "markdown",
   "metadata": {},
   "source": [
    "### Gráfico de dispersión"
   ]
  },
  {
   "cell_type": "markdown",
   "metadata": {},
   "source": [
    "Otra trama de uso frecuente es el diagrama de dispersión.\n",
    "\n",
    "Usémoslo para trazar los valores de temperatura frente a la presión de aire:"
   ]
  },
  {
   "cell_type": "code",
   "execution_count": null,
   "metadata": {},
   "outputs": [],
   "source": [
    "plt.figure(figsize=(9,9))\n",
    "plt.rcParams[\"font.size\"] = 14\n",
    "\n",
    "plt.scatter(data.air_temperature, data.air_pressure)\n",
    "plt.show()"
   ]
  },
  {
   "cell_type": "markdown",
   "metadata": {},
   "source": [
    "También podemos trazar múltiples diagramas de dispersión uno encima del otro para representar más información dentro de un mismo diagrama.\n",
    "\n",
    "Si hacemos esto con las mediciones de temperatura / presión por separado para enero y agosto, podemos ver que las presiones de aire por debajo de 1000 hPa solo prevalecieron durante enero pero no durante agosto y que el rango de valores de presión de aire fue mucho mayor durante enero que durante agosto:"
   ]
  },
  {
   "cell_type": "code",
   "execution_count": null,
   "metadata": {},
   "outputs": [],
   "source": [
    "plt.figure(figsize=(9,9))\n",
    "\n",
    "plt.scatter(data.air_temperature, data.air_pressure, marker=\".\", c=\"grey\", alpha=0.1, label=\"\")\n",
    "plt.scatter(data.air_temperature[\"2015-01\"], data.air_pressure[\"2015-01\"], marker=\".\", c=\"#35A3FF\", alpha=1, label=\"January\")\n",
    "plt.scatter(data.air_temperature[\"2015-06\"], data.air_pressure[\"2015-06\"], marker=\".\", c=\"#FF824C\", alpha=1, label=\"August\")\n",
    "\n",
    "plt.xlabel(\"Temperature (°C)\")\n",
    "plt.ylabel(\"Pressure (hPa)\")\n",
    "\n",
    "plt.legend()\n",
    "plt.show()"
   ]
  },
  {
   "cell_type": "markdown",
   "metadata": {},
   "source": [
    "Hay muchas más opciones que puede ajustar para obtener un aspecto agradable listo para imprimir la trama. Y, por supuesto, hay muchos más tipos de gráficos (por ejemplo, gráficos de barras, gráficos de cajas, gráficos 3D, ...) No los cubriremos todos aquí, pero puede consultar la documentación de [matplotlib](https://matplotlib.org/contents.html) .\n",
    "\n",
    "Además, hay muchas más bibliotecas de trazado que cubren todo tipo de rutinas de trazado útiles, por ejemplo, para trazar datos de viento ..."
   ]
  },
  {
   "cell_type": "markdown",
   "metadata": {},
   "source": [
    "### Windroses (Rosa de vientos)\n",
    "\n",
    "Con la extensión windrose , puede trazar fácilmente los datos del viento en un gráfico típico de rosa de los vientos:"
   ]
  },
  {
   "cell_type": "code",
   "execution_count": null,
   "metadata": {},
   "outputs": [],
   "source": [
    "from windrose import WindroseAxes\n",
    "\n",
    "ax = WindroseAxes.from_ax()\n",
    "ax.bar(data.wind_direction, data.wind_speed, normed=True, opening=0.8, edgecolor=\"white\")\n",
    "ax.set_legend()\n",
    "plt.show()"
   ]
  },
  {
   "cell_type": "code",
   "execution_count": null,
   "metadata": {},
   "outputs": [],
   "source": []
  },
  {
   "cell_type": "markdown",
   "metadata": {},
   "source": [
    "### Tarea\n",
    "Cree un diagrama lineal simple de los valores de velocidad del viento de febrero de 2015.\n",
    "Cree un histograma simple de los mismos datos.\n",
    "\n"
   ]
  },
  {
   "cell_type": "markdown",
   "metadata": {},
   "source": [
    "### Referencias adicionales\n",
    "- https://towardsdatascience.com/data-visualization-with-python-8bc988e44f22\n",
    "- https://towardsdatascience.com/advanced-plots-in-matplotlib-part-2-e88f91ce9e31"
   ]
  }
 ],
 "metadata": {
  "kernelspec": {
   "display_name": "Python 3",
   "language": "python",
   "name": "python3"
  },
  "language_info": {
   "codemirror_mode": {
    "name": "ipython",
    "version": 3
   },
   "file_extension": ".py",
   "mimetype": "text/x-python",
   "name": "python",
   "nbconvert_exporter": "python",
   "pygments_lexer": "ipython3",
   "version": "3.7.6"
  }
 },
 "nbformat": 4,
 "nbformat_minor": 4
}
