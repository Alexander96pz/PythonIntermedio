{
 "cells": [
  {
   "cell_type": "markdown",
   "metadata": {},
   "source": [
    "# Tarea Nro. 1 SB. - DECORADORES, COMPRESIÓN DE LISTAS"
   ]
  },
  {
   "cell_type": "markdown",
   "metadata": {},
   "source": [
    "- Nombre y Apellido: ........................\n",
    "- Fecha:             ........................  "
   ]
  },
  {
   "cell_type": "markdown",
   "metadata": {},
   "source": [
    "### Decoradores\n",
    "\n"
   ]
  },
  {
   "cell_type": "markdown",
   "metadata": {},
   "source": [
    "#### Problema 1\n",
    "\n",
    "Crear los decoradores para la función impresora de tal forma que se presente signos de * y % en medio del mensaje. \n",
    "\n",
    "```\n",
    "@strella\n",
    "@porcentaje\n",
    "def impresora(msg):\n",
    "    print(msg)\n",
    "```\n",
    "\n",
    "```\n",
    "******************************\n",
    "%%%%%%%%%%%%%%%%%%%%%%%%%%%%%%\n",
    "Hello\n",
    "%%%%%%%%%%%%%%%%%%%%%%%%%%%%%%\n",
    "******************************\n",
    "```\n",
    "\n",
    "Modifique el orden como se llaman los decoradores y explique lo que está sucediendo. "
   ]
  },
  {
   "cell_type": "markdown",
   "metadata": {},
   "source": [
    "#### Problema 2\n",
    "\n",
    "Genere el decorador division_inteligente para la función divide de tal forma que trabaje como los resultados que se presentan a continuación:\n",
    "\n",
    "```\n",
    "@division_inteligente\n",
    "def divide(a,b):\n",
    "    return a/b\n",
    "```\n",
    "\n",
    "```\n",
    ">>> divide(2,5)\n",
    "Voy a dividir 2 y 5\n",
    "0.4\n",
    ">>> divide(2,0)\n",
    "Voy a dividir 2 y 0\n",
    "Pops! no puedo dividir\n",
    "```"
   ]
  },
  {
   "cell_type": "markdown",
   "metadata": {},
   "source": [
    "#### Problema 3\n",
    "\n",
    "Crear un decorador que permita mostrar un aviso de que una función será discontinuada en stderr cuando invoquemos por primera vez una función que ya no queremos. El objetivo es no modificar la función. "
   ]
  },
  {
   "cell_type": "markdown",
   "metadata": {},
   "source": [
    "### Compresión de listas"
   ]
  },
  {
   "cell_type": "markdown",
   "metadata": {},
   "source": [
    "#### Problema 4\n",
    "\n",
    "Genere la lista [(1,1), (1,2), (1,3), (1,4), .., (1, n)], para cualquier n dado.\n",
    "Use esta lista para crear todas las fracciones 1.0 / k, para k de 1 a n.\n",
    "Finalmente, use round() para redondear todas las fracciones a dos decimales."
   ]
  },
  {
   "cell_type": "markdown",
   "metadata": {},
   "source": [
    "#### Problema 5\n",
    "Aproximar la función exponencial como\n",
    "$$\n",
    "\\sum_{k=0}^{n}\\frac{x^{k}}{k!}\n",
    "$$\n",
    "\n",
    "Utilice compresión de listas para evaluar esta aproximación para x y n dados."
   ]
  },
  {
   "cell_type": "markdown",
   "metadata": {},
   "source": [
    "#### Problema 4\n",
    "\n",
    "Escriba una lista de comprensión que resuelva la ecuación $$ y = x ^ {2} + 1 $$ Su solución debe imprimir una lista de pares [x, y]; use el dominio x ∈ [−5, 5] y el rango y ∈ [0, 10].\n",
    "\n"
   ]
  },
  {
   "cell_type": "markdown",
   "metadata": {},
   "source": [
    "#### Problema 5\n",
    "\n",
    "Escriba una función llamada mas_vocales(lista de palabras) que tome una lista de cadenas y\n",
    "devuelva la cadena con más vocales en la lista. Puede suponer que las cadenas solo contienen\n",
    "letras minusculas. Por ejemplo:\n",
    "\n",
    "```\n",
    ">>> mas_vocales(['Buddy', 'Oreo', 'Max', 'Toto'])\n",
    "'Oreo'\n",
    ">>> mas_vocales(['puppies', 'are', 'the', 'greatest'])\n",
    "'puppies'\n",
    "```\n",
    "Utilice compresión de listas en la solución del problema."
   ]
  }
 ],
 "metadata": {
  "kernelspec": {
   "display_name": "Python 3",
   "language": "python",
   "name": "python3"
  },
  "language_info": {
   "codemirror_mode": {
    "name": "ipython",
    "version": 3
   },
   "file_extension": ".py",
   "mimetype": "text/x-python",
   "name": "python",
   "nbconvert_exporter": "python",
   "pygments_lexer": "ipython3",
   "version": "3.7.3"
  }
 },
 "nbformat": 4,
 "nbformat_minor": 2
}
